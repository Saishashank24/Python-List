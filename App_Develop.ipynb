{
  "nbformat": 4,
  "nbformat_minor": 0,
  "metadata": {
    "colab": {
      "provenance": [],
      "authorship_tag": "ABX9TyMsBSDJku4ABGE24Taeqj5n",
      "include_colab_link": true
    },
    "kernelspec": {
      "name": "python3",
      "display_name": "Python 3"
    },
    "language_info": {
      "name": "python"
    }
  },
  "cells": [
    {
      "cell_type": "markdown",
      "metadata": {
        "id": "view-in-github",
        "colab_type": "text"
      },
      "source": [
        "<a href=\"https://colab.research.google.com/github/Saishashank24/Python-List/blob/main/App_Develop.ipynb\" target=\"_parent\"><img src=\"https://colab.research.google.com/assets/colab-badge.svg\" alt=\"Open In Colab\"/></a>"
      ]
    },
    {
      "cell_type": "code",
      "execution_count": null,
      "metadata": {
        "colab": {
          "base_uri": "https://localhost:8080/"
        },
        "id": "fAe1Fx5sVtY9",
        "outputId": "bc5ee639-0bad-4cc2-c5f8-335b3a60ce61"
      },
      "outputs": [
        {
          "output_type": "execute_result",
          "data": {
            "text/plain": [
              "2.3333333333333335"
            ]
          },
          "metadata": {},
          "execution_count": 1
        }
      ],
      "source": [
        "7/3"
      ]
    },
    {
      "cell_type": "code",
      "source": [
        "5+3/2-15%7+7/2+3*10"
      ],
      "metadata": {
        "colab": {
          "base_uri": "https://localhost:8080/"
        },
        "id": "3u9nO6zJecqR",
        "outputId": "aab171ad-25ce-4876-dc82-4c64fa7ae0c1"
      },
      "execution_count": null,
      "outputs": [
        {
          "output_type": "execute_result",
          "data": {
            "text/plain": [
              "39.0"
            ]
          },
          "metadata": {},
          "execution_count": 5
        }
      ]
    },
    {
      "cell_type": "code",
      "source": [
        "m34achine_learning=1000"
      ],
      "metadata": {
        "id": "AI12T1xn2OML"
      },
      "execution_count": null,
      "outputs": []
    },
    {
      "cell_type": "code",
      "source": [
        "a=10\n",
        "a+=12\n",
        "print(a)"
      ],
      "metadata": {
        "colab": {
          "base_uri": "https://localhost:8080/"
        },
        "id": "ZcNHHexv2apf",
        "outputId": "be2d107b-563d-4903-9e79-05a2615765c4"
      },
      "execution_count": null,
      "outputs": [
        {
          "output_type": "stream",
          "name": "stdout",
          "text": [
            "22\n"
          ]
        }
      ]
    },
    {
      "cell_type": "code",
      "source": [
        "a=10\n",
        "a/=12\n",
        "print(a)"
      ],
      "metadata": {
        "colab": {
          "base_uri": "https://localhost:8080/"
        },
        "id": "bOyvqPFv3Jj7",
        "outputId": "341cf3c3-de59-4884-98e2-3865b64c1914"
      },
      "execution_count": null,
      "outputs": [
        {
          "output_type": "stream",
          "name": "stdout",
          "text": [
            "0.8333333333333334\n"
          ]
        }
      ]
    },
    {
      "cell_type": "code",
      "source": [
        "a=10\n",
        "a*=12\n",
        "print(a)"
      ],
      "metadata": {
        "colab": {
          "base_uri": "https://localhost:8080/"
        },
        "id": "GaA-XZ2q3PG7",
        "outputId": "6ab57f42-9459-4fdf-b026-6bbdd38edfb5"
      },
      "execution_count": null,
      "outputs": [
        {
          "output_type": "stream",
          "name": "stdout",
          "text": [
            "120\n"
          ]
        }
      ]
    },
    {
      "cell_type": "code",
      "source": [
        "a=10\n",
        "a-=12\n",
        "print(a)"
      ],
      "metadata": {
        "colab": {
          "base_uri": "https://localhost:8080/"
        },
        "id": "cjuOEo6v3Syv",
        "outputId": "a0b350ca-4485-47d6-8d67-7842c3a9c3ee"
      },
      "execution_count": null,
      "outputs": [
        {
          "output_type": "stream",
          "name": "stdout",
          "text": [
            "-2\n"
          ]
        }
      ]
    },
    {
      "cell_type": "code",
      "source": [
        "a=100\n",
        "b=200\n",
        "a+b\n",
        "a-b\n",
        "b/a"
      ],
      "metadata": {
        "colab": {
          "base_uri": "https://localhost:8080/"
        },
        "id": "lRoT-LjB3XEg",
        "outputId": "ffa85cb5-bfe1-45ad-a3c9-5955d8060b89"
      },
      "execution_count": null,
      "outputs": [
        {
          "output_type": "execute_result",
          "data": {
            "text/plain": [
              "2.0"
            ]
          },
          "metadata": {},
          "execution_count": 11
        }
      ]
    },
    {
      "cell_type": "code",
      "source": [
        "a=100\n",
        "b=200\n",
        "print(a+b)\n",
        "print(a-b)\n",
        "print(b/a)"
      ],
      "metadata": {
        "id": "H6KSGs3N3i3H",
        "colab": {
          "base_uri": "https://localhost:8080/"
        },
        "outputId": "099e7e5c-e05c-4976-a5e1-66b1e68ec0a2"
      },
      "execution_count": null,
      "outputs": [
        {
          "output_type": "stream",
          "name": "stdout",
          "text": [
            "300\n",
            "-100\n",
            "2.0\n"
          ]
        }
      ]
    },
    {
      "cell_type": "code",
      "source": [
        "a=int(input(\"enter a number\"))\n",
        "b=int(input(\"enter a number\"))\n",
        "print(a+b)"
      ],
      "metadata": {
        "colab": {
          "base_uri": "https://localhost:8080/"
        },
        "id": "vOqidTQR4IH_",
        "outputId": "8f4b85d1-6254-463e-a52f-a0360b5e6e51"
      },
      "execution_count": null,
      "outputs": [
        {
          "output_type": "stream",
          "name": "stdout",
          "text": [
            "enter a number24\n",
            "enter a number4\n",
            "28\n"
          ]
        }
      ]
    },
    {
      "cell_type": "code",
      "source": [
        "a=200\n",
        "b=350\n",
        "c=400\n",
        "print(a>=b and c>a or c>b)\n",
        "print(b<c and b>a or c>=a)"
      ],
      "metadata": {
        "colab": {
          "base_uri": "https://localhost:8080/"
        },
        "id": "xTfJW2KE4iHV",
        "outputId": "467afb4a-2f75-45b3-c80d-2b6b6cd76e2a"
      },
      "execution_count": null,
      "outputs": [
        {
          "output_type": "stream",
          "name": "stdout",
          "text": [
            "True\n",
            "True\n"
          ]
        }
      ]
    },
    {
      "cell_type": "code",
      "source": [
        "otp=int(input(\"enter otp\"))\n",
        "if otp==2345:\n",
        "  print('correct')\n",
        "else:\n",
        "  print('incorrect')"
      ],
      "metadata": {
        "colab": {
          "base_uri": "https://localhost:8080/"
        },
        "id": "Eqg1DRbH55zI",
        "outputId": "9973a363-3058-4347-d13a-5c8bcad480eb"
      },
      "execution_count": null,
      "outputs": [
        {
          "output_type": "stream",
          "name": "stdout",
          "text": [
            "enter otp3443\n",
            "incorrect\n"
          ]
        }
      ]
    },
    {
      "cell_type": "code",
      "source": [
        "a=\"machine learning\"\n",
        "print(a[2:-4])"
      ],
      "metadata": {
        "id": "Mh567HiD-Ta7",
        "colab": {
          "base_uri": "https://localhost:8080/"
        },
        "outputId": "ca515a11-f584-4c91-e983-2ae30f4f553f"
      },
      "execution_count": null,
      "outputs": [
        {
          "output_type": "stream",
          "name": "stdout",
          "text": [
            "chine lear\n"
          ]
        }
      ]
    },
    {
      "cell_type": "code",
      "source": [
        "a=\"machine learning\"\n",
        "print(a[2:6])"
      ],
      "metadata": {
        "colab": {
          "base_uri": "https://localhost:8080/"
        },
        "id": "urxAUnApEX-4",
        "outputId": "0b394b42-4b8b-4b4b-8d16-e9836cb23b41"
      },
      "execution_count": null,
      "outputs": [
        {
          "output_type": "stream",
          "name": "stdout",
          "text": [
            "chin\n"
          ]
        }
      ]
    },
    {
      "cell_type": "code",
      "source": [
        "s = \"GeeksforGeeks\"\n",
        "print(s[0])\n",
        "print(s[4])"
      ],
      "metadata": {
        "colab": {
          "base_uri": "https://localhost:8080/"
        },
        "id": "Gmaf1NlQEky5",
        "outputId": "e9afc761-a775-45ea-b693-70259938a7e9"
      },
      "execution_count": null,
      "outputs": [
        {
          "output_type": "stream",
          "name": "stdout",
          "text": [
            "G\n",
            "s\n"
          ]
        }
      ]
    },
    {
      "cell_type": "code",
      "source": [
        "s = \"GeeksforGeeks\"\n",
        "print(s[-2:-9:-4])"
      ],
      "metadata": {
        "colab": {
          "base_uri": "https://localhost:8080/"
        },
        "id": "WdN5ITbaE4Hz",
        "outputId": "a92f9c58-e1ba-468d-aa6d-372eef992f1e"
      },
      "execution_count": null,
      "outputs": [
        {
          "output_type": "stream",
          "name": "stdout",
          "text": [
            "kr\n"
          ]
        }
      ]
    },
    {
      "cell_type": "code",
      "source": [
        "s = \"GeeksforGeeks\"\n",
        "print(s[1:0:-1])"
      ],
      "metadata": {
        "colab": {
          "base_uri": "https://localhost:8080/"
        },
        "id": "qO3OWY3aFFgw",
        "outputId": "aafb5504-8904-4d4f-bea9-67804a7c5bd9"
      },
      "execution_count": null,
      "outputs": [
        {
          "output_type": "stream",
          "name": "stdout",
          "text": [
            "e\n"
          ]
        }
      ]
    },
    {
      "cell_type": "code",
      "source": [
        "a = \"Hello, World!\"\n",
        "print(a.lower())"
      ],
      "metadata": {
        "colab": {
          "base_uri": "https://localhost:8080/"
        },
        "id": "oejQJO1gH0pE",
        "outputId": "14693434-8fc0-4d12-f224-d486032fad17"
      },
      "execution_count": null,
      "outputs": [
        {
          "output_type": "stream",
          "name": "stdout",
          "text": [
            "hello, world!\n"
          ]
        }
      ]
    },
    {
      "cell_type": "code",
      "source": [
        "a = \"Hello, World!\"\n",
        "print(a.upper())"
      ],
      "metadata": {
        "colab": {
          "base_uri": "https://localhost:8080/"
        },
        "id": "nCnEhiDlIb4g",
        "outputId": "96bc27f7-5e7a-4dc3-97ce-a342be027453"
      },
      "execution_count": null,
      "outputs": [
        {
          "output_type": "stream",
          "name": "stdout",
          "text": [
            "HELLO, WORLD!\n"
          ]
        }
      ]
    },
    {
      "cell_type": "code",
      "source": [
        "a = \" Hello, World! \"\n",
        "print(a.strip()) # returns \"Hello, World!\""
      ],
      "metadata": {
        "colab": {
          "base_uri": "https://localhost:8080/"
        },
        "id": "jlT1rBGFIgNx",
        "outputId": "1078e39a-4a8b-41c6-f40c-96807d383894"
      },
      "execution_count": null,
      "outputs": [
        {
          "output_type": "stream",
          "name": "stdout",
          "text": [
            "Hello, World!     z\n"
          ]
        }
      ]
    },
    {
      "cell_type": "code",
      "source": [
        "\n",
        "metrics=[\"Accuracy\",\"precision\",\"Recall\",\"F1score\",\"AUC_ROC_Score\"]\n",
        "\n",
        "print(metrics)"
      ],
      "metadata": {
        "id": "eNj8ljIUJOky",
        "colab": {
          "base_uri": "https://localhost:8080/"
        },
        "outputId": "f65db742-440c-44c0-a56c-7e1e3a737605"
      },
      "execution_count": null,
      "outputs": [
        {
          "output_type": "stream",
          "name": "stdout",
          "text": [
            "['Accuracy', 'precision', 'Recall', 'F1score', 'AUC_ROC_Score']\n"
          ]
        }
      ]
    },
    {
      "cell_type": "code",
      "source": [
        "metrics[0]"
      ],
      "metadata": {
        "colab": {
          "base_uri": "https://localhost:8080/",
          "height": 35
        },
        "id": "opjXqB1aywXm",
        "outputId": "9df14d95-71b6-45c9-9d2c-c3edda4a0eaf"
      },
      "execution_count": null,
      "outputs": [
        {
          "output_type": "execute_result",
          "data": {
            "text/plain": [
              "'Accuracy'"
            ],
            "application/vnd.google.colaboratory.intrinsic+json": {
              "type": "string"
            }
          },
          "metadata": {},
          "execution_count": 2
        }
      ]
    },
    {
      "cell_type": "code",
      "source": [
        "metrics[:3]"
      ],
      "metadata": {
        "colab": {
          "base_uri": "https://localhost:8080/"
        },
        "id": "VRjxDYjDy2r9",
        "outputId": "f4752f63-9a1a-4f2e-ceea-26265a4a1b27"
      },
      "execution_count": null,
      "outputs": [
        {
          "output_type": "execute_result",
          "data": {
            "text/plain": [
              "['Accuracy', 'precision', 'Recall']"
            ]
          },
          "metadata": {},
          "execution_count": 3
        }
      ]
    },
    {
      "cell_type": "code",
      "source": [
        "metrics[:-3]"
      ],
      "metadata": {
        "colab": {
          "base_uri": "https://localhost:8080/"
        },
        "id": "k4YdA2-oy5D_",
        "outputId": "63ab5273-09a8-4fc6-d5e6-d74c27516b3b"
      },
      "execution_count": null,
      "outputs": [
        {
          "output_type": "execute_result",
          "data": {
            "text/plain": [
              "['Accuracy', 'precision']"
            ]
          },
          "metadata": {},
          "execution_count": 4
        }
      ]
    },
    {
      "cell_type": "code",
      "source": [
        "metrics[2:]"
      ],
      "metadata": {
        "colab": {
          "base_uri": "https://localhost:8080/"
        },
        "id": "h5z9ROYEy9HY",
        "outputId": "08933ef5-4b6f-4d61-f48f-c75e8dc9678a"
      },
      "execution_count": null,
      "outputs": [
        {
          "output_type": "execute_result",
          "data": {
            "text/plain": [
              "['Recall', 'F1score', 'AUC_ROC_Score']"
            ]
          },
          "metadata": {},
          "execution_count": 5
        }
      ]
    },
    {
      "cell_type": "code",
      "source": [
        "metrics[0:-2]"
      ],
      "metadata": {
        "colab": {
          "base_uri": "https://localhost:8080/"
        },
        "id": "eQwsO6vhzDwm",
        "outputId": "1ec2552a-3d97-4e16-b5cd-728816f3f0d8"
      },
      "execution_count": null,
      "outputs": [
        {
          "output_type": "execute_result",
          "data": {
            "text/plain": [
              "['Accuracy', 'precision', 'Recall']"
            ]
          },
          "metadata": {},
          "execution_count": 6
        }
      ]
    },
    {
      "cell_type": "code",
      "source": [
        "metrics[0:4:2]"
      ],
      "metadata": {
        "id": "K1LJOGxizI-j",
        "colab": {
          "base_uri": "https://localhost:8080/"
        },
        "outputId": "f9b63abf-03a1-4304-840a-1572ff011524"
      },
      "execution_count": null,
      "outputs": [
        {
          "output_type": "execute_result",
          "data": {
            "text/plain": [
              "['Accuracy', 'Recall']"
            ]
          },
          "metadata": {},
          "execution_count": 7
        }
      ]
    },
    {
      "cell_type": "code",
      "source": [
        "metrics[:4:-1]"
      ],
      "metadata": {
        "colab": {
          "base_uri": "https://localhost:8080/"
        },
        "id": "ExBiT81Z0UWe",
        "outputId": "61fbcf9c-fd24-4b82-83c0-babf533d401a"
      },
      "execution_count": null,
      "outputs": [
        {
          "output_type": "execute_result",
          "data": {
            "text/plain": [
              "[]"
            ]
          },
          "metadata": {},
          "execution_count": 8
        }
      ]
    },
    {
      "cell_type": "code",
      "source": [
        "metrics[:4:-2]"
      ],
      "metadata": {
        "colab": {
          "base_uri": "https://localhost:8080/"
        },
        "id": "2SO3SRtB0wSP",
        "outputId": "b5780568-63f6-4c57-b180-09a7b06bc1e6"
      },
      "execution_count": null,
      "outputs": [
        {
          "output_type": "execute_result",
          "data": {
            "text/plain": [
              "[]"
            ]
          },
          "metadata": {},
          "execution_count": 9
        }
      ]
    },
    {
      "cell_type": "code",
      "source": [
        "lis=[1,2,3,4,'ArithmeticError','amity','hello','hi',['a','b'],[1,2]]"
      ],
      "metadata": {
        "id": "eYbI4-0N1DEZ"
      },
      "execution_count": null,
      "outputs": []
    },
    {
      "cell_type": "code",
      "source": [
        "lis.append(2)\n",
        "lis.append(\"lova\")  ## appends as  last element of list\n",
        "lis"
      ],
      "metadata": {
        "colab": {
          "base_uri": "https://localhost:8080/"
        },
        "id": "yN7KuT-q3b6H",
        "outputId": "2446adb9-5cbc-4273-faa2-f0d961165640"
      },
      "execution_count": null,
      "outputs": [
        {
          "output_type": "execute_result",
          "data": {
            "text/plain": [
              "[1,\n",
              " 2,\n",
              " 3,\n",
              " 4,\n",
              " 'ArithmeticError',\n",
              " 'amity',\n",
              " 'hello',\n",
              " 'hi',\n",
              " ['a', 'b'],\n",
              " [1, 2],\n",
              " 2,\n",
              " 'lova']"
            ]
          },
          "metadata": {},
          "execution_count": 11
        }
      ]
    },
    {
      "cell_type": "code",
      "source": [
        "lis.pop()"
      ],
      "metadata": {
        "colab": {
          "base_uri": "https://localhost:8080/",
          "height": 35
        },
        "id": "y281_eWb3fhy",
        "outputId": "1609f3f1-89a4-4a9e-9b09-37cb5c5c478b"
      },
      "execution_count": null,
      "outputs": [
        {
          "output_type": "execute_result",
          "data": {
            "text/plain": [
              "'lova'"
            ],
            "application/vnd.google.colaboratory.intrinsic+json": {
              "type": "string"
            }
          },
          "metadata": {},
          "execution_count": 12
        }
      ]
    },
    {
      "cell_type": "code",
      "source": [
        "lis.pop(3)"
      ],
      "metadata": {
        "colab": {
          "base_uri": "https://localhost:8080/"
        },
        "id": "h4m575LX33dS",
        "outputId": "bb62df2e-5b78-4e70-978f-b9ef87e80e5d"
      },
      "execution_count": null,
      "outputs": [
        {
          "output_type": "execute_result",
          "data": {
            "text/plain": [
              "4"
            ]
          },
          "metadata": {},
          "execution_count": 13
        }
      ]
    },
    {
      "cell_type": "code",
      "source": [
        "lis.pop()"
      ],
      "metadata": {
        "colab": {
          "base_uri": "https://localhost:8080/",
          "height": 35
        },
        "id": "EI5p1PLa4EcM",
        "outputId": "ad4665a6-4a19-4898-aa84-62d2d597d684"
      },
      "execution_count": null,
      "outputs": [
        {
          "output_type": "execute_result",
          "data": {
            "text/plain": [
              "'lova'"
            ],
            "application/vnd.google.colaboratory.intrinsic+json": {
              "type": "string"
            }
          },
          "metadata": {},
          "execution_count": 15
        }
      ]
    },
    {
      "cell_type": "code",
      "source": [
        "lis.pop(3)"
      ],
      "metadata": {
        "colab": {
          "base_uri": "https://localhost:8080/",
          "height": 35
        },
        "id": "v6ZQgl6l4JdV",
        "outputId": "99d2939d-75ba-4c2f-e3a7-d1f8af8b5785"
      },
      "execution_count": null,
      "outputs": [
        {
          "output_type": "execute_result",
          "data": {
            "text/plain": [
              "'ArithmeticError'"
            ],
            "application/vnd.google.colaboratory.intrinsic+json": {
              "type": "string"
            }
          },
          "metadata": {},
          "execution_count": 16
        }
      ]
    },
    {
      "cell_type": "code",
      "source": [
        "lira=[4,5,5,6,7]## elements are moved to next position\n",
        "lira.insert(1,\"hi\")"
      ],
      "metadata": {
        "id": "OQpD6dIh4Vgt"
      },
      "execution_count": null,
      "outputs": []
    },
    {
      "cell_type": "code",
      "source": [
        "lira"
      ],
      "metadata": {
        "colab": {
          "base_uri": "https://localhost:8080/"
        },
        "id": "NNH_I4r34ehC",
        "outputId": "39969f47-f410-448e-e853-cc99480b2df2"
      },
      "execution_count": null,
      "outputs": [
        {
          "output_type": "execute_result",
          "data": {
            "text/plain": [
              "[4, 'hi', 5, 5, 6, 7]"
            ]
          },
          "metadata": {},
          "execution_count": 18
        }
      ]
    },
    {
      "cell_type": "code",
      "source": [
        "lis"
      ],
      "metadata": {
        "colab": {
          "base_uri": "https://localhost:8080/"
        },
        "id": "dSUozMFY4hfT",
        "outputId": "f52b5624-706f-47f0-c48f-23c9cb8d20c9"
      },
      "execution_count": null,
      "outputs": [
        {
          "output_type": "execute_result",
          "data": {
            "text/plain": [
              "[1, 2, 3, 'amity', 'hello', 'hi', ['a', 'b'], [1, 2], 2, 2]"
            ]
          },
          "metadata": {},
          "execution_count": 19
        }
      ]
    },
    {
      "cell_type": "code",
      "source": [
        "lira.clear()"
      ],
      "metadata": {
        "id": "E5jrYTtW4jLZ"
      },
      "execution_count": null,
      "outputs": []
    },
    {
      "cell_type": "code",
      "source": [
        "lira"
      ],
      "metadata": {
        "colab": {
          "base_uri": "https://localhost:8080/"
        },
        "id": "oThSApzm4m8c",
        "outputId": "b549c1db-6d43-48c9-b492-e6e1d82c763e"
      },
      "execution_count": null,
      "outputs": [
        {
          "output_type": "execute_result",
          "data": {
            "text/plain": [
              "[]"
            ]
          },
          "metadata": {},
          "execution_count": 21
        }
      ]
    },
    {
      "cell_type": "code",
      "source": [
        "lira=[4,5,5,6,7]## elements are moved to next position\n",
        "lira.insert(1,\"hi\")"
      ],
      "metadata": {
        "id": "eiT0yCVh4oPV"
      },
      "execution_count": null,
      "outputs": []
    },
    {
      "cell_type": "code",
      "source": [
        "lis"
      ],
      "metadata": {
        "colab": {
          "base_uri": "https://localhost:8080/"
        },
        "id": "sUe7Dteo4tLB",
        "outputId": "bd05e2fc-f8b7-43a6-8555-0c658a45cd9c"
      },
      "execution_count": null,
      "outputs": [
        {
          "output_type": "execute_result",
          "data": {
            "text/plain": [
              "[1, 2, 3, 'amity', 'hello', 'hi', ['a', 'b'], [1, 2], 2, 2]"
            ]
          },
          "metadata": {},
          "execution_count": 23
        }
      ]
    },
    {
      "cell_type": "code",
      "source": [
        "lira.clear()"
      ],
      "metadata": {
        "id": "e2q1UuBe4uQu"
      },
      "execution_count": null,
      "outputs": []
    },
    {
      "cell_type": "code",
      "source": [
        "lis=[4,5,5,6,7]## elements are moved to next position\n",
        "lis.insert(1,\"hi\")"
      ],
      "metadata": {
        "id": "J1yJQ-kn4xKA"
      },
      "execution_count": null,
      "outputs": []
    },
    {
      "cell_type": "code",
      "source": [
        "lis"
      ],
      "metadata": {
        "colab": {
          "base_uri": "https://localhost:8080/"
        },
        "id": "GjXF0QHz40qM",
        "outputId": "e8804d61-dff1-407b-cc6d-d0e5f981f390"
      },
      "execution_count": null,
      "outputs": [
        {
          "output_type": "execute_result",
          "data": {
            "text/plain": [
              "[4, 'hi', 5, 5, 6, 7]"
            ]
          },
          "metadata": {},
          "execution_count": 26
        }
      ]
    },
    {
      "cell_type": "code",
      "source": [
        "lira"
      ],
      "metadata": {
        "colab": {
          "base_uri": "https://localhost:8080/"
        },
        "id": "4TB6GS_G41qh",
        "outputId": "c4cbf8a5-7087-49dc-ef62-396361e1a171"
      },
      "execution_count": null,
      "outputs": [
        {
          "output_type": "execute_result",
          "data": {
            "text/plain": [
              "[]"
            ]
          },
          "metadata": {},
          "execution_count": 27
        }
      ]
    },
    {
      "cell_type": "code",
      "source": [
        "lis"
      ],
      "metadata": {
        "colab": {
          "base_uri": "https://localhost:8080/"
        },
        "id": "Da85-hww5AD3",
        "outputId": "22857800-0cc9-49e0-94a1-dc281fa76ff2"
      },
      "execution_count": null,
      "outputs": [
        {
          "output_type": "execute_result",
          "data": {
            "text/plain": [
              "[4, 'hi', 5, 5, 6, 7]"
            ]
          },
          "metadata": {},
          "execution_count": 28
        }
      ]
    },
    {
      "cell_type": "code",
      "source": [
        "lis.clear()"
      ],
      "metadata": {
        "id": "Tyj6E3MB5BQ3"
      },
      "execution_count": null,
      "outputs": []
    },
    {
      "cell_type": "code",
      "source": [
        "lis"
      ],
      "metadata": {
        "colab": {
          "base_uri": "https://localhost:8080/"
        },
        "id": "WRf2bWip5DXb",
        "outputId": "cb9aa271-e09e-475f-b6b5-332a5597c2bf"
      },
      "execution_count": null,
      "outputs": [
        {
          "output_type": "execute_result",
          "data": {
            "text/plain": [
              "[]"
            ]
          },
          "metadata": {},
          "execution_count": 30
        }
      ]
    },
    {
      "cell_type": "code",
      "source": [
        "ki=[1,2,3,4]\n",
        "ki1=[3,4,4,5]\n",
        "l1=zip(ki,ki1)\n",
        "print(l1)"
      ],
      "metadata": {
        "colab": {
          "base_uri": "https://localhost:8080/"
        },
        "id": "Qc43qbTe5E3Z",
        "outputId": "c8e246ac-52cd-456b-bba4-9d889684f201"
      },
      "execution_count": null,
      "outputs": [
        {
          "output_type": "stream",
          "name": "stdout",
          "text": [
            "<zip object at 0x7ddfdf726880>\n"
          ]
        }
      ]
    },
    {
      "cell_type": "code",
      "source": [
        "ki=[1,2,3,4]\n",
        "ki1=[3,4,4,5]\n",
        "l1=list(zip(ki,ki1))\n",
        "\n",
        "print(\"list of\",l1)"
      ],
      "metadata": {
        "colab": {
          "base_uri": "https://localhost:8080/"
        },
        "id": "rY-ydbIC5e_P",
        "outputId": "0e4cdd62-e15c-4467-8026-a8053f40ab59"
      },
      "execution_count": null,
      "outputs": [
        {
          "output_type": "stream",
          "name": "stdout",
          "text": [
            "list of [(1, 3), (2, 4), (3, 4), (4, 5)]\n"
          ]
        }
      ]
    },
    {
      "cell_type": "code",
      "source": [
        "ki=[1,2,3,4,6]\n",
        "ki1=[3,4,4,5]\n",
        "l1=list(zip(ki,ki1))\n",
        "\n",
        "print(\"tuple of\",l1)"
      ],
      "metadata": {
        "colab": {
          "base_uri": "https://localhost:8080/"
        },
        "id": "BdJJeRgq5ycm",
        "outputId": "8ff92b5d-838b-4e1c-b560-63ab8d220e5f"
      },
      "execution_count": null,
      "outputs": [
        {
          "output_type": "stream",
          "name": "stdout",
          "text": [
            "tuple of [(1, 3), (2, 4), (3, 4), (4, 5)]\n"
          ]
        }
      ]
    },
    {
      "cell_type": "code",
      "source": [
        "l1=[4,5,6,7,8,9]\n",
        "list(enumerate(l1))\n"
      ],
      "metadata": {
        "colab": {
          "base_uri": "https://localhost:8080/"
        },
        "id": "4Gewv6d95-f9",
        "outputId": "c2f0cdc2-d80d-41dd-d160-fb459a6f4414"
      },
      "execution_count": null,
      "outputs": [
        {
          "output_type": "execute_result",
          "data": {
            "text/plain": [
              "[(0, 4), (1, 5), (2, 6), (3, 7), (4, 8), (5, 9)]"
            ]
          },
          "metadata": {},
          "execution_count": 35
        }
      ]
    },
    {
      "cell_type": "code",
      "source": [
        "l1=[22,3,4,51,6,71,8,9,10] #### original one chenges its order\n",
        "\n",
        "l1.sort() # Output:\n",
        "print(l1)\n"
      ],
      "metadata": {
        "colab": {
          "base_uri": "https://localhost:8080/"
        },
        "id": "B5cPRBIf608h",
        "outputId": "f07db627-7fb8-4272-b760-2829521b5fa0"
      },
      "execution_count": null,
      "outputs": [
        {
          "output_type": "stream",
          "name": "stdout",
          "text": [
            "[3, 4, 6, 8, 9, 10, 22, 51, 71]\n"
          ]
        }
      ]
    },
    {
      "cell_type": "code",
      "source": [
        "l2=[222,1,3,4,22,5,10] ## original one not chnges its order\n",
        "print(l2)\n",
        "print(sorted(l2))"
      ],
      "metadata": {
        "colab": {
          "base_uri": "https://localhost:8080/"
        },
        "id": "HmihfYtd7jDi",
        "outputId": "592a1ad7-9332-419f-e18f-284f3118bf8c"
      },
      "execution_count": null,
      "outputs": [
        {
          "output_type": "stream",
          "name": "stdout",
          "text": [
            "[222, 1, 3, 4, 22, 5, 10]\n",
            "[1, 3, 4, 5, 10, 22, 222]\n"
          ]
        }
      ]
    },
    {
      "cell_type": "code",
      "source": [
        "l1"
      ],
      "metadata": {
        "colab": {
          "base_uri": "https://localhost:8080/"
        },
        "id": "CI57Ahw37l0P",
        "outputId": "066eae75-30e3-470c-9527-a1c4ad436076"
      },
      "execution_count": null,
      "outputs": [
        {
          "output_type": "execute_result",
          "data": {
            "text/plain": [
              "[3, 4, 6, 8, 9, 10, 22, 51, 71]"
            ]
          },
          "metadata": {},
          "execution_count": 38
        }
      ]
    },
    {
      "cell_type": "code",
      "source": [
        "l2"
      ],
      "metadata": {
        "colab": {
          "base_uri": "https://localhost:8080/"
        },
        "id": "qcZqPg7a7vm3",
        "outputId": "478241ce-8dfc-41f5-abca-a726b2f984e0"
      },
      "execution_count": null,
      "outputs": [
        {
          "output_type": "execute_result",
          "data": {
            "text/plain": [
              "[222, 1, 3, 4, 22, 5, 10]"
            ]
          },
          "metadata": {},
          "execution_count": 39
        }
      ]
    },
    {
      "cell_type": "code",
      "source": [
        "ab=(\"raju\",\"ravi\",1,2,3,7.8)\n",
        "print(ab)\n",
        "\n",
        "type(ab)"
      ],
      "metadata": {
        "colab": {
          "base_uri": "https://localhost:8080/"
        },
        "id": "LsINEiLi7w_g",
        "outputId": "cfc742b4-e06f-4ce6-d0f9-b27c5770edd2"
      },
      "execution_count": null,
      "outputs": [
        {
          "output_type": "stream",
          "name": "stdout",
          "text": [
            "('raju', 'ravi', 1, 2, 3, 7.8)\n"
          ]
        },
        {
          "output_type": "execute_result",
          "data": {
            "text/plain": [
              "tuple"
            ]
          },
          "metadata": {},
          "execution_count": 40
        }
      ]
    },
    {
      "cell_type": "code",
      "source": [
        "print(ab)\n",
        "('raju', 'ravi', 1, 2, 3, 7.8)"
      ],
      "metadata": {
        "colab": {
          "base_uri": "https://localhost:8080/"
        },
        "id": "2UH7n7yl8ISZ",
        "outputId": "699dd885-2316-47e3-fa2b-9687b6a683a9"
      },
      "execution_count": null,
      "outputs": [
        {
          "output_type": "stream",
          "name": "stdout",
          "text": [
            "('raju', 'ravi', 1, 2, 3, 7.8)\n"
          ]
        },
        {
          "output_type": "execute_result",
          "data": {
            "text/plain": [
              "('raju', 'ravi', 1, 2, 3, 7.8)"
            ]
          },
          "metadata": {},
          "execution_count": 41
        }
      ]
    },
    {
      "cell_type": "code",
      "source": [
        "print(ab)\n"
      ],
      "metadata": {
        "colab": {
          "base_uri": "https://localhost:8080/"
        },
        "id": "RXEFgZQI8Wum",
        "outputId": "eeb3fbc2-0eeb-4e84-811c-eb2c52d8d203"
      },
      "execution_count": null,
      "outputs": [
        {
          "output_type": "stream",
          "name": "stdout",
          "text": [
            "('raju', 'ravi', 1, 2, 3, 7.8)\n"
          ]
        }
      ]
    },
    {
      "cell_type": "code",
      "source": [
        "# Grab the element at index 0, which is the FIRST element\n",
        "ab[0]\n",
        "'raju'"
      ],
      "metadata": {
        "colab": {
          "base_uri": "https://localhost:8080/",
          "height": 35
        },
        "id": "HHylimyX8bEJ",
        "outputId": "df49da37-aaea-478a-c715-c2610e10e14c"
      },
      "execution_count": null,
      "outputs": [
        {
          "output_type": "execute_result",
          "data": {
            "text/plain": [
              "'raju'"
            ],
            "application/vnd.google.colaboratory.intrinsic+json": {
              "type": "string"
            }
          },
          "metadata": {},
          "execution_count": 43
        }
      ]
    },
    {
      "cell_type": "code",
      "source": [
        "# Grab the element at index 0, which is the FIRST element\n",
        "ab[0]\n"
      ],
      "metadata": {
        "colab": {
          "base_uri": "https://localhost:8080/",
          "height": 35
        },
        "id": "b-sej6n48gBe",
        "outputId": "7a84972f-7d77-481e-8c04-94516c9eae2d"
      },
      "execution_count": null,
      "outputs": [
        {
          "output_type": "execute_result",
          "data": {
            "text/plain": [
              "'raju'"
            ],
            "application/vnd.google.colaboratory.intrinsic+json": {
              "type": "string"
            }
          },
          "metadata": {},
          "execution_count": 44
        }
      ]
    },
    {
      "cell_type": "code",
      "source": [
        "ab[0][3]\n"
      ],
      "metadata": {
        "colab": {
          "base_uri": "https://localhost:8080/",
          "height": 35
        },
        "id": "dBzXNxB78lvg",
        "outputId": "b72d3dbd-d51a-47f7-9f51-fb43495c3625"
      },
      "execution_count": null,
      "outputs": [
        {
          "output_type": "execute_result",
          "data": {
            "text/plain": [
              "'u'"
            ],
            "application/vnd.google.colaboratory.intrinsic+json": {
              "type": "string"
            }
          },
          "metadata": {},
          "execution_count": 48
        }
      ]
    },
    {
      "cell_type": "code",
      "source": [
        "ab[0][1]\n"
      ],
      "metadata": {
        "colab": {
          "base_uri": "https://localhost:8080/",
          "height": 35
        },
        "id": "jaEs0ZF48qe8",
        "outputId": "5e2bc762-bd3c-404f-cab1-05eb53fad4b0"
      },
      "execution_count": null,
      "outputs": [
        {
          "output_type": "execute_result",
          "data": {
            "text/plain": [
              "'a'"
            ],
            "application/vnd.google.colaboratory.intrinsic+json": {
              "type": "string"
            }
          },
          "metadata": {},
          "execution_count": 49
        }
      ]
    },
    {
      "cell_type": "code",
      "source": [
        "ab"
      ],
      "metadata": {
        "colab": {
          "base_uri": "https://localhost:8080/"
        },
        "id": "MLUDm3Uh81gW",
        "outputId": "df7c4c98-2ceb-4368-8038-0568e5700202"
      },
      "execution_count": null,
      "outputs": [
        {
          "output_type": "execute_result",
          "data": {
            "text/plain": [
              "('raju', 'ravi', 1, 2, 3, 7.8)"
            ]
          },
          "metadata": {},
          "execution_count": 50
        }
      ]
    },
    {
      "cell_type": "code",
      "source": [
        "print(ab[-3])\n"
      ],
      "metadata": {
        "colab": {
          "base_uri": "https://localhost:8080/"
        },
        "id": "4Zin-ZVO8-Wf",
        "outputId": "62d9a287-10c9-4d54-fc9f-dcc3cf1c2107"
      },
      "execution_count": null,
      "outputs": [
        {
          "output_type": "stream",
          "name": "stdout",
          "text": [
            "2\n"
          ]
        }
      ]
    },
    {
      "cell_type": "code",
      "source": [
        "## concatenation\n",
        "a=(1,2,3,7.8)\n",
        "print(a+ab)"
      ],
      "metadata": {
        "colab": {
          "base_uri": "https://localhost:8080/"
        },
        "id": "dXMrm3Kv9Uuj",
        "outputId": "1f910cfa-3d0a-407c-a5d4-8f28eb703cad"
      },
      "execution_count": null,
      "outputs": [
        {
          "output_type": "stream",
          "name": "stdout",
          "text": [
            "(1, 2, 3, 7.8, 'raju', 'ravi', 1, 2, 3, 7.8)\n"
          ]
        }
      ]
    },
    {
      "cell_type": "code",
      "source": [
        "abc=(1, 2, 3, 9, 143, 11.5, 'aditya', 'swathi', 'sujana')\n",
        "abc.index(11.5)\n"
      ],
      "metadata": {
        "colab": {
          "base_uri": "https://localhost:8080/"
        },
        "id": "ArfJDE0E9be8",
        "outputId": "6651de23-4c6e-4ad6-d217-c3431fb0856f"
      },
      "execution_count": null,
      "outputs": [
        {
          "output_type": "execute_result",
          "data": {
            "text/plain": [
              "5"
            ]
          },
          "metadata": {},
          "execution_count": 60
        }
      ]
    },
    {
      "cell_type": "code",
      "source": [
        "abc=(1,1,2, 2,2, 3, 9, 143, 11.5, 'aditya', 'swathi', 'sujana')\n",
        "abc.count(1)\n"
      ],
      "metadata": {
        "colab": {
          "base_uri": "https://localhost:8080/"
        },
        "id": "7fZmpi5k9hWE",
        "outputId": "fafcd2a7-b8f6-48ba-beb0-0c07af7ecc9f"
      },
      "execution_count": null,
      "outputs": [
        {
          "output_type": "execute_result",
          "data": {
            "text/plain": [
              "2"
            ]
          },
          "metadata": {},
          "execution_count": 61
        }
      ]
    },
    {
      "cell_type": "code",
      "source": [
        "# Make a dictionary with {} and : to signify a key and a value\n",
        "\n",
        "marvel_dict = {'Name':'Thor'   ,  'Place':'Asgard',  'Weapon' : 'Hammer',     1:2,    3 : 'power',    'super_heros' : ['Ironman','Captain America'],  'abc' : {1:2, 4:5}}"
      ],
      "metadata": {
        "id": "KlZf3YOU9oeq"
      },
      "execution_count": 1,
      "outputs": []
    },
    {
      "cell_type": "code",
      "source": [
        "marvel_dict[\"Name\"]"
      ],
      "metadata": {
        "colab": {
          "base_uri": "https://localhost:8080/",
          "height": 35
        },
        "id": "lyR_bgMggM3O",
        "outputId": "66daede3-80d5-4f25-ea8a-fdf27f1541c0"
      },
      "execution_count": 2,
      "outputs": [
        {
          "output_type": "execute_result",
          "data": {
            "text/plain": [
              "'Thor'"
            ],
            "application/vnd.google.colaboratory.intrinsic+json": {
              "type": "string"
            }
          },
          "metadata": {},
          "execution_count": 2
        }
      ]
    },
    {
      "cell_type": "code",
      "source": [
        "marvel_dict.keys()"
      ],
      "metadata": {
        "colab": {
          "base_uri": "https://localhost:8080/"
        },
        "id": "t1kvFUUFgWJl",
        "outputId": "5af9c54c-c745-4809-c8ab-db729c99446a"
      },
      "execution_count": 3,
      "outputs": [
        {
          "output_type": "execute_result",
          "data": {
            "text/plain": [
              "dict_keys(['Name', 'Place', 'Weapon', 1, 3, 'super_heros', 'abc'])"
            ]
          },
          "metadata": {},
          "execution_count": 3
        }
      ]
    },
    {
      "cell_type": "code",
      "source": [
        "list(marvel_dict.keys())"
      ],
      "metadata": {
        "colab": {
          "base_uri": "https://localhost:8080/"
        },
        "id": "9E4NJmBmg3nY",
        "outputId": "e2ae4e0f-16b3-4ad5-bf1a-20a001f6f8e6"
      },
      "execution_count": 4,
      "outputs": [
        {
          "output_type": "execute_result",
          "data": {
            "text/plain": [
              "['Name', 'Place', 'Weapon', 1, 3, 'super_heros', 'abc']"
            ]
          },
          "metadata": {},
          "execution_count": 4
        }
      ]
    },
    {
      "cell_type": "code",
      "source": [
        "marvel_dict"
      ],
      "metadata": {
        "colab": {
          "base_uri": "https://localhost:8080/"
        },
        "id": "7L-lsyLdg7Cl",
        "outputId": "7d8f358d-e486-43a7-b621-abd65499b6c0"
      },
      "execution_count": 7,
      "outputs": [
        {
          "output_type": "execute_result",
          "data": {
            "text/plain": [
              "{'Name': 'Thor',\n",
              " 'Place': 'Asgard',\n",
              " 'Weapon': 'Hammer',\n",
              " 1: 2,\n",
              " 3: 'power',\n",
              " 'super_heros': ['Ironman', 'Captain America'],\n",
              " 'abc': {1: 2, 4: 5},\n",
              " 'Salary': '12,00,000',\n",
              " 'ravi': 'kumar'}"
            ]
          },
          "metadata": {},
          "execution_count": 7
        }
      ]
    },
    {
      "cell_type": "code",
      "source": [
        "marvel_dict.update({'Salary':'12,00,000',\"ravi\":\"kumar\"})"
      ],
      "metadata": {
        "id": "ij6aX2NkhR5g"
      },
      "execution_count": 6,
      "outputs": []
    },
    {
      "cell_type": "code",
      "source": [
        "marvel_dict"
      ],
      "metadata": {
        "colab": {
          "base_uri": "https://localhost:8080/"
        },
        "id": "NS5BaFnzhg52",
        "outputId": "050b2e6c-ef5c-462d-972d-cb1bc056c415"
      },
      "execution_count": 8,
      "outputs": [
        {
          "output_type": "execute_result",
          "data": {
            "text/plain": [
              "{'Name': 'Thor',\n",
              " 'Place': 'Asgard',\n",
              " 'Weapon': 'Hammer',\n",
              " 1: 2,\n",
              " 3: 'power',\n",
              " 'super_heros': ['Ironman', 'Captain America'],\n",
              " 'abc': {1: 2, 4: 5},\n",
              " 'Salary': '12,00,000',\n",
              " 'ravi': 'kumar'}"
            ]
          },
          "metadata": {},
          "execution_count": 8
        }
      ]
    },
    {
      "cell_type": "code",
      "source": [
        "len(marvel_dict)"
      ],
      "metadata": {
        "colab": {
          "base_uri": "https://localhost:8080/"
        },
        "id": "CPM_u3XghkYr",
        "outputId": "528d4675-d88c-4eb3-91fc-abbfc164613d"
      },
      "execution_count": 9,
      "outputs": [
        {
          "output_type": "execute_result",
          "data": {
            "text/plain": [
              "9"
            ]
          },
          "metadata": {},
          "execution_count": 9
        }
      ]
    },
    {
      "cell_type": "code",
      "source": [
        "# Add a new key\n",
        "\n",
        "marvel_dict['Designation'] ='Data Scientist'"
      ],
      "metadata": {
        "id": "Zegg70cPhoB2"
      },
      "execution_count": 10,
      "outputs": []
    },
    {
      "cell_type": "code",
      "source": [
        "marvel_dict"
      ],
      "metadata": {
        "colab": {
          "base_uri": "https://localhost:8080/"
        },
        "id": "AGgCIuYRhuqt",
        "outputId": "72183ac2-9eef-4541-827d-ef87af8f1836"
      },
      "execution_count": 11,
      "outputs": [
        {
          "output_type": "execute_result",
          "data": {
            "text/plain": [
              "{'Name': 'Thor',\n",
              " 'Place': 'Asgard',\n",
              " 'Weapon': 'Hammer',\n",
              " 1: 2,\n",
              " 3: 'power',\n",
              " 'super_heros': ['Ironman', 'Captain America'],\n",
              " 'abc': {1: 2, 4: 5},\n",
              " 'Salary': '12,00,000',\n",
              " 'ravi': 'kumar',\n",
              " 'Designation': 'Data Scientist'}"
            ]
          },
          "metadata": {},
          "execution_count": 11
        }
      ]
    },
    {
      "cell_type": "code",
      "source": [
        "d1= {'name': \"laxman\" , 'MCA' :[\"python\" , \"ML\" , \"DL\" , \"NLP\",\"CV\" , \"Big data\" , \"data analytics\"]}\n",
        "\n",
        "d1\n",
        "\n",
        "d2=d1.copy()"
      ],
      "metadata": {
        "id": "6XtiwbSuhxnf"
      },
      "execution_count": 12,
      "outputs": []
    },
    {
      "cell_type": "code",
      "source": [],
      "metadata": {
        "id": "7OdrqCMzls6X"
      },
      "execution_count": null,
      "outputs": []
    }
  ]
}